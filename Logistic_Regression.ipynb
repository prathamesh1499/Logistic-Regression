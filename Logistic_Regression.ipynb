{
  "nbformat": 4,
  "nbformat_minor": 0,
  "metadata": {
    "colab": {
      "name": "Logistic Regression.ipynb",
      "provenance": [],
      "collapsed_sections": [],
      "toc_visible": true
    },
    "kernelspec": {
      "name": "python3",
      "display_name": "Python 3"
    }
  },
  "cells": [
    {
      "cell_type": "markdown",
      "metadata": {
        "id": "uKT1dTZk7mBh",
        "colab_type": "text"
      },
      "source": [
        "# Logistic Regression"
      ]
    },
    {
      "cell_type": "markdown",
      "metadata": {
        "id": "eTqsTv96Iu-b",
        "colab_type": "text"
      },
      "source": [
        "Author : Prathamesh Joshi\n"
      ]
    },
    {
      "cell_type": "markdown",
      "metadata": {
        "id": "JX8_BUia2UIz",
        "colab_type": "text"
      },
      "source": [
        "\n",
        "**Logistic regression**\n",
        "\n",
        "Logistic regression is a statistical model that in its basic form uses a logistic function to model a binary dependent variable, although many more complex extensions exist. In regression analysis, logistic regression (or logit regression) is estimating the parameters of a logistic model (a form of binary regression).\n",
        "\n",
        "******************************************************************************\n",
        "\n",
        "**When should you use logistic regression?**\n",
        "\n",
        "When you want to model binary data :- Logistic regression is a go-to model for this use case. It models the probability that an observation takes on one of those two values.\n",
        "\n",
        "When the decision boundary is smooth and linear :- Logistic regression draws a smooth, linear decision boundary between two classes. Thus if your classes are linearly separable , logistic regression will perform very well.\n",
        "\n",
        "******************************************************************************\n",
        "\n",
        "\n",
        "The standard logistic function (or sigmoid function) <br>\n",
        "Y(z) = 1 / (1+ e^-z) = e^z/(1+e^z)"
      ]
    },
    {
      "cell_type": "markdown",
      "metadata": {
        "id": "AEdjYEF3I9mf",
        "colab_type": "text"
      },
      "source": [
        "## **Logistic Regression**"
      ]
    },
    {
      "cell_type": "code",
      "metadata": {
        "id": "KZWAM-KSM_G5",
        "colab_type": "code",
        "colab": {}
      },
      "source": [
        "# we import the necessary libraries \n",
        "from sklearn.datasets import make_classification #this will help us to generate the data\n",
        "from sklearn.linear_model import LogisticRegression\n",
        "from sklearn.model_selection import train_test_split\n",
        "from sklearn.metrics import confusion_matrix # we will use this to map a confusion matrix\n",
        "import pandas as pd\n",
        "import matplotlib.pyplot as plt\n",
        "import seaborn as sns\n",
        "sns.set()"
      ],
      "execution_count": 0,
      "outputs": []
    },
    {
      "cell_type": "markdown",
      "metadata": {
        "id": "krJVDayRNZN0",
        "colab_type": "text"
      },
      "source": [
        "*As logistic regression is a binary classification model lets generate a binary data or data with two classes*"
      ]
    },
    {
      "cell_type": "code",
      "metadata": {
        "id": "2kfXi-VINS9t",
        "colab_type": "code",
        "colab": {}
      },
      "source": [
        "X, y = make_classification(n_samples = 100, n_features=1, \n",
        "                           n_classes=2, n_clusters_per_class=1, \n",
        "                           flip_y=0.03,         # few samples are assigned class randomly so 0.03 of 100 samples ie 3\n",
        "                           n_informative=1,\n",
        "                           n_redundant=0, # number of redundant features should be 0 : default is 1\n",
        "                           n_repeated=0) # no repeated or duplicate features should be 0 : as default is 2"
      ],
      "execution_count": 0,
      "outputs": []
    },
    {
      "cell_type": "markdown",
      "metadata": {
        "id": "UT94GSDQPN5g",
        "colab_type": "text"
      },
      "source": [
        "## Visualize the data"
      ]
    },
    {
      "cell_type": "code",
      "metadata": {
        "id": "4i_7hfKnPIQm",
        "colab_type": "code",
        "colab": {
          "base_uri": "https://localhost:8080/",
          "height": 285
        },
        "outputId": "d0c27e7b-276c-4cd4-affd-2148fda432cb"
      },
      "source": [
        "plt.scatter(X, y, c=y, cmap='rainbow')"
      ],
      "execution_count": 4,
      "outputs": [
        {
          "output_type": "execute_result",
          "data": {
            "text/plain": [
              "<matplotlib.collections.PathCollection at 0x7f94024502e8>"
            ]
          },
          "metadata": {
            "tags": []
          },
          "execution_count": 4
        },
        {
          "output_type": "display_data",
          "data": {
            "image/png": "[encoded data removed]",
            "text/plain": [
              "<Figure size 432x288 with 1 Axes>"
            ]
          },
          "metadata": {
            "tags": []
          }
        }
      ]
    },
    {
      "cell_type": "code",
      "metadata": {
        "id": "9naF9pkoPSRN",
        "colab_type": "code",
        "colab": {}
      },
      "source": [
        "X_train, X_test, y_train, y_test = train_test_split(X, y, random_state=1)  # splitting the data into training and testing"
      ],
      "execution_count": 0,
      "outputs": []
    },
    {
      "cell_type": "markdown",
      "metadata": {
        "id": "jsfg49qTQbR5",
        "colab_type": "text"
      },
      "source": [
        "# Building the regression"
      ]
    },
    {
      "cell_type": "code",
      "metadata": {
        "id": "in5uQR8qQV9b",
        "colab_type": "code",
        "colab": {}
      },
      "source": [
        "model = LogisticRegression() "
      ],
      "execution_count": 0,
      "outputs": []
    },
    {
      "cell_type": "code",
      "metadata": {
        "id": "hgCX6k3IQiEz",
        "colab_type": "code",
        "colab": {
          "base_uri": "https://localhost:8080/",
          "height": 105
        },
        "outputId": "6a91e034-3bf2-40e9-862f-9debad89d301"
      },
      "source": [
        "model.fit(X_train,y_train) # fitting the data "
      ],
      "execution_count": 7,
      "outputs": [
        {
          "output_type": "execute_result",
          "data": {
            "text/plain": [
              "LogisticRegression(C=1.0, class_weight=None, dual=False, fit_intercept=True,\n",
              "                   intercept_scaling=1, l1_ratio=None, max_iter=100,\n",
              "                   multi_class='auto', n_jobs=None, penalty='l2',\n",
              "                   random_state=None, solver='lbfgs', tol=0.0001, verbose=0,\n",
              "                   warm_start=False)"
            ]
          },
          "metadata": {
            "tags": []
          },
          "execution_count": 7
        }
      ]
    },
    {
      "cell_type": "code",
      "metadata": {
        "id": "vPsFaZD-QrJ1",
        "colab_type": "code",
        "colab": {
          "base_uri": "https://localhost:8080/",
          "height": 34
        },
        "outputId": "2a72f0c8-e56d-4ed4-f785-16d9a0f4aadf"
      },
      "source": [
        "model.coef_ # coefficent "
      ],
      "execution_count": 8,
      "outputs": [
        {
          "output_type": "execute_result",
          "data": {
            "text/plain": [
              "array([[3.08916859]])"
            ]
          },
          "metadata": {
            "tags": []
          },
          "execution_count": 8
        }
      ]
    },
    {
      "cell_type": "code",
      "metadata": {
        "id": "E0R8UQwsQvdw",
        "colab_type": "code",
        "colab": {
          "base_uri": "https://localhost:8080/",
          "height": 34
        },
        "outputId": "e8ca99b6-1e58-468b-d6d4-5b4ee89fa88a"
      },
      "source": [
        "model.intercept_ # intercept"
      ],
      "execution_count": 9,
      "outputs": [
        {
          "output_type": "execute_result",
          "data": {
            "text/plain": [
              "array([0.13663044])"
            ]
          },
          "metadata": {
            "tags": []
          },
          "execution_count": 9
        }
      ]
    },
    {
      "cell_type": "code",
      "metadata": {
        "id": "-2rH_-E3Q1B3",
        "colab_type": "code",
        "colab": {}
      },
      "source": [
        "y_pred = model.predict(X_test)"
      ],
      "execution_count": 0,
      "outputs": []
    },
    {
      "cell_type": "code",
      "metadata": {
        "id": "VMxtX-jAQ7W_",
        "colab_type": "code",
        "colab": {
          "base_uri": "https://localhost:8080/",
          "height": 52
        },
        "outputId": "69837ea6-27c8-49f7-a635-f65493763d6a"
      },
      "source": [
        "y_pred"
      ],
      "execution_count": 11,
      "outputs": [
        {
          "output_type": "execute_result",
          "data": {
            "text/plain": [
              "array([1, 1, 1, 0, 0, 0, 0, 0, 0, 0, 1, 0, 1, 0, 1, 1, 0, 0, 0, 1, 1, 1,\n",
              "       0, 0, 0])"
            ]
          },
          "metadata": {
            "tags": []
          },
          "execution_count": 11
        }
      ]
    },
    {
      "cell_type": "code",
      "metadata": {
        "id": "UgHHYLEuRDS6",
        "colab_type": "code",
        "colab": {
          "base_uri": "https://localhost:8080/",
          "height": 461
        },
        "outputId": "f39f6d61-d5e8-4866-d549-d156700226a5"
      },
      "source": [
        "model.predict_proba(X_test) # it gives 2 colums which shows what is the probability of a given data in class 1 or 2 respectively"
      ],
      "execution_count": 12,
      "outputs": [
        {
          "output_type": "execute_result",
          "data": {
            "text/plain": [
              "array([[0.15331628, 0.84668372],\n",
              "       [0.06305647, 0.93694353],\n",
              "       [0.03116357, 0.96883643],\n",
              "       [0.92460343, 0.07539657],\n",
              "       [0.97099117, 0.02900883],\n",
              "       [0.99008627, 0.00991373],\n",
              "       [0.96754799, 0.03245201],\n",
              "       [0.91663058, 0.08336942],\n",
              "       [0.98087706, 0.01912294],\n",
              "       [0.9448459 , 0.0551541 ],\n",
              "       [0.05821785, 0.94178215],\n",
              "       [0.7202956 , 0.2797044 ],\n",
              "       [0.04951086, 0.95048914],\n",
              "       [0.98113651, 0.01886349],\n",
              "       [0.07246668, 0.92753332],\n",
              "       [0.07442492, 0.92557508],\n",
              "       [0.9558376 , 0.0441624 ],\n",
              "       [0.95969931, 0.04030069],\n",
              "       [0.98959431, 0.01040569],\n",
              "       [0.02665342, 0.97334658],\n",
              "       [0.00594147, 0.99405853],\n",
              "       [0.05149067, 0.94850933],\n",
              "       [0.99537509, 0.00462491],\n",
              "       [0.93490015, 0.06509985],\n",
              "       [0.98587247, 0.01412753]])"
            ]
          },
          "metadata": {
            "tags": []
          },
          "execution_count": 12
        }
      ]
    },
    {
      "cell_type": "markdown",
      "metadata": {
        "id": "VSONrRGZRjs1",
        "colab_type": "text"
      },
      "source": [
        " As one can see in y_pred the first 3 values where 1 ie it belongs to a class 2 or we can say ( same class) so our model has correctly predicted its probability around 84-97% that they belong to class 2 and so on"
      ]
    },
    {
      "cell_type": "markdown",
      "metadata": {
        "id": "la2944FQSDxn",
        "colab_type": "text"
      },
      "source": [
        "The first column corresponds to the probability that the sample belongs to the first class and the second column corresponds to the probability that the sample belongs to the second class."
      ]
    },
    {
      "cell_type": "markdown",
      "metadata": {
        "id": "RpqHKWPoSH9v",
        "colab_type": "text"
      },
      "source": [
        "## **Confusion matrix**"
      ]
    },
    {
      "cell_type": "code",
      "metadata": {
        "id": "hqlsL8yURhJn",
        "colab_type": "code",
        "colab": {
          "base_uri": "https://localhost:8080/",
          "height": 52
        },
        "outputId": "e81f2656-3616-4a53-a3de-388f4e45b88c"
      },
      "source": [
        "confusion_matrix(y_test, y_pred)"
      ],
      "execution_count": 13,
      "outputs": [
        {
          "output_type": "execute_result",
          "data": {
            "text/plain": [
              "array([[15,  0],\n",
              "       [ 0, 10]])"
            ]
          },
          "metadata": {
            "tags": []
          },
          "execution_count": 13
        }
      ]
    },
    {
      "cell_type": "code",
      "metadata": {
        "id": "CAU84-KGTlJ_",
        "colab_type": "code",
        "colab": {
          "base_uri": "https://localhost:8080/",
          "height": 34
        },
        "outputId": "0e4af7e5-3c7d-46e7-b327-00ba59ad5240"
      },
      "source": [
        "model.score(X_test,y_test)"
      ],
      "execution_count": 19,
      "outputs": [
        {
          "output_type": "execute_result",
          "data": {
            "text/plain": [
              "1.0"
            ]
          },
          "metadata": {
            "tags": []
          },
          "execution_count": 19
        }
      ]
    },
    {
      "cell_type": "markdown",
      "metadata": {
        "id": "IjCXsUsCSZxX",
        "colab_type": "text"
      },
      "source": [
        "Our model is 100% accurate !!"
      ]
    },
    {
      "cell_type": "markdown",
      "metadata": {
        "id": "uMRxWeF_SmUN",
        "colab_type": "text"
      },
      "source": [
        "#**Plotting the sigmoid**"
      ]
    },
    {
      "cell_type": "code",
      "metadata": {
        "id": "-dasYwRUSSoA",
        "colab_type": "code",
        "colab": {
          "base_uri": "https://localhost:8080/",
          "height": 285
        },
        "outputId": "7448aeba-e2a6-4a39-9144-828d9140bc3b"
      },
      "source": [
        "df = pd.DataFrame({'x': X_test[:,0], 'y': y_test})\n",
        "df = df.sort_values(by='x')\n",
        "\n",
        "from scipy.special import expit # using scipy to do tedious calculations \n",
        "\n",
        "sigmoid_function = expit(df['x'] * model.coef_[0][0] + model.intercept_[0]).ravel()\n",
        "plt.plot(df['x'], sigmoid_function)\n",
        "plt.scatter(df['x'], df['y'], c=df['y'], cmap='rainbow', edgecolors='black')"
      ],
      "execution_count": 15,
      "outputs": [
        {
          "output_type": "execute_result",
          "data": {
            "text/plain": [
              "<matplotlib.collections.PathCollection at 0x7f93fe2e2198>"
            ]
          },
          "metadata": {
            "tags": []
          },
          "execution_count": 15
        },
        {
          "output_type": "display_data",
          "data": {
            "image/png": "[encoded data removed]",
            "text/plain": [
              "<Figure size 432x288 with 1 Axes>"
            ]
          },
          "metadata": {
            "tags": []
          }
        }
      ]
    },
    {
      "cell_type": "code",
      "metadata": {
        "id": "lczjFIqJT0nD",
        "colab_type": "code",
        "colab": {}
      },
      "source": [
        ""
      ],
      "execution_count": 0,
      "outputs": []
    }
  ]
}